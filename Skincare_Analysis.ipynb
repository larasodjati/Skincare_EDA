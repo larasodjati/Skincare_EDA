{
 "cells": [
  {
   "cell_type": "markdown",
   "id": "a8a4bc3e",
   "metadata": {},
   "source": [
    "## Analysis of Harmful Ingredients in Skincare Products and Their Impact on Customer Sentiment and Ratings\n"
   ]
  },
  {
   "cell_type": "markdown",
   "id": "eb65f013",
   "metadata": {},
   "source": [
    "### Introduction\n",
    "\n",
    "The beauty industry is growing rapidly, with ingredients continually evolving to be safer and better for our health. Consumers are increasingly aware of the harmful ingredients used in their products, making it crucial to understand how these potentially harmful substances affect consumer sentiment and product ratings. This project aims to analyze the prevalence of harmful ingredients in skincare products and assess their impact on consumer perceptions and ratings.\n",
    "\n",
    "In this study, we will:\n",
    "1. **Identify Harmful Ingredients**: Utilize a reliable database to classify ingredients based on their safety profiles.\n",
    "2. **Determine Prevalence**: Calculate how common these harmful ingredients are in various skincare products.\n",
    "3. **Analyze Consumer Sentiment**: Perform sentiment analysis on consumer reviews to gauge awareness and reactions to harmful ingredients.\n",
    "4. **Evaluate Product Ratings**: Assess how the presence of harmful ingredients affects product ratings.\n",
    "5. **Correlation Analysis**: Explore the relationship between harmful ingredients, consumer sentiment, and product ratings.\n",
    "6. **Provide Insights and Recommendations**: Offer actionable recommendations for manufacturers and regulators based on our findings."
   ]
  },
  {
   "cell_type": "code",
   "execution_count": 4,
   "id": "b0f75fa4",
   "metadata": {},
   "outputs": [
    {
     "name": "stdout",
     "output_type": "stream",
     "text": [
      "Requirement already satisfied: pandas in c:\\users\\laras\\anaconda3\\lib\\site-packages (2.0.3)\n",
      "Requirement already satisfied: python-dateutil>=2.8.2 in c:\\users\\laras\\anaconda3\\lib\\site-packages (from pandas) (2.8.2)\n",
      "Requirement already satisfied: pytz>=2020.1 in c:\\users\\laras\\anaconda3\\lib\\site-packages (from pandas) (2023.3.post1)\n",
      "Requirement already satisfied: tzdata>=2022.1 in c:\\users\\laras\\anaconda3\\lib\\site-packages (from pandas) (2023.3)\n",
      "Requirement already satisfied: numpy>=1.21.0 in c:\\users\\laras\\anaconda3\\lib\\site-packages (from pandas) (1.24.3)\n",
      "Requirement already satisfied: six>=1.5 in c:\\users\\laras\\anaconda3\\lib\\site-packages (from python-dateutil>=2.8.2->pandas) (1.16.0)\n",
      "Note: you may need to restart the kernel to use updated packages.\n"
     ]
    }
   ],
   "source": [
    "pip install pandas"
   ]
  },
  {
   "cell_type": "code",
   "execution_count": 5,
   "id": "7a95991e",
   "metadata": {},
   "outputs": [
    {
     "name": "stdout",
     "output_type": "stream",
     "text": [
      "Requirement already satisfied: numpy in c:\\users\\laras\\anaconda3\\lib\\site-packages (1.24.3)\n",
      "Note: you may need to restart the kernel to use updated packages.\n"
     ]
    }
   ],
   "source": [
    "pip install numpy "
   ]
  },
  {
   "cell_type": "code",
   "execution_count": 6,
   "id": "26613bef",
   "metadata": {},
   "outputs": [
    {
     "name": "stdout",
     "output_type": "stream",
     "text": [
      "Requirement already satisfied: matplotlib in c:\\users\\laras\\anaconda3\\lib\\site-packages (3.7.2)\n",
      "Requirement already satisfied: contourpy>=1.0.1 in c:\\users\\laras\\anaconda3\\lib\\site-packages (from matplotlib) (1.0.5)\n",
      "Requirement already satisfied: cycler>=0.10 in c:\\users\\laras\\anaconda3\\lib\\site-packages (from matplotlib) (0.11.0)\n",
      "Requirement already satisfied: fonttools>=4.22.0 in c:\\users\\laras\\anaconda3\\lib\\site-packages (from matplotlib) (4.25.0)\n",
      "Requirement already satisfied: kiwisolver>=1.0.1 in c:\\users\\laras\\anaconda3\\lib\\site-packages (from matplotlib) (1.4.4)\n",
      "Requirement already satisfied: numpy>=1.20 in c:\\users\\laras\\anaconda3\\lib\\site-packages (from matplotlib) (1.24.3)\n",
      "Requirement already satisfied: packaging>=20.0 in c:\\users\\laras\\anaconda3\\lib\\site-packages (from matplotlib) (23.1)\n",
      "Requirement already satisfied: pillow>=6.2.0 in c:\\users\\laras\\anaconda3\\lib\\site-packages (from matplotlib) (10.2.0)\n",
      "Requirement already satisfied: pyparsing<3.1,>=2.3.1 in c:\\users\\laras\\anaconda3\\lib\\site-packages (from matplotlib) (3.0.9)\n",
      "Requirement already satisfied: python-dateutil>=2.7 in c:\\users\\laras\\anaconda3\\lib\\site-packages (from matplotlib) (2.8.2)\n",
      "Requirement already satisfied: six>=1.5 in c:\\users\\laras\\anaconda3\\lib\\site-packages (from python-dateutil>=2.7->matplotlib) (1.16.0)\n",
      "Note: you may need to restart the kernel to use updated packages.\n"
     ]
    }
   ],
   "source": [
    "pip install matplotlib"
   ]
  },
  {
   "cell_type": "code",
   "execution_count": 7,
   "id": "6e73bca7",
   "metadata": {},
   "outputs": [
    {
     "name": "stdout",
     "output_type": "stream",
     "text": [
      "Requirement already satisfied: xlrd in c:\\users\\laras\\anaconda3\\lib\\site-packages (2.0.1)\n",
      "Note: you may need to restart the kernel to use updated packages.\n"
     ]
    }
   ],
   "source": [
    "pip install xlrd"
   ]
  },
  {
   "cell_type": "code",
   "execution_count": 8,
   "id": "8649e2a8",
   "metadata": {},
   "outputs": [],
   "source": [
    "import pandas as pd\n",
    "import numpy as np\n",
    "import matplotlib.pyplot as plt\n",
    "import seaborn as sns "
   ]
  },
  {
   "cell_type": "markdown",
   "id": "c48f2a57",
   "metadata": {},
   "source": [
    "### Identify Harmful Ingredients"
   ]
  },
  {
   "cell_type": "code",
   "execution_count": 9,
   "id": "693358bc",
   "metadata": {},
   "outputs": [
    {
     "name": "stdout",
     "output_type": "stream",
     "text": [
      "Skincare datasets attributes: Label           object\n",
      "brand           object\n",
      "name            object\n",
      "price            int64\n",
      "rank           float64\n",
      "ingredients     object\n",
      "Combination      int64\n",
      "Dry              int64\n",
      "Normal           int64\n",
      "Oily             int64\n",
      "Sensitive        int64\n",
      "dtype: object\n",
      "Skincare ingredients attributes: CAS                              object\n",
      "List Name                        object\n",
      "TSCA Chemical Name               object\n",
      "List Call                        object\n",
      "Caveat - Chemical Use            object\n",
      "Edit Description                 object\n",
      "Date of Edit             datetime64[ns]\n",
      "dtype: object\n"
     ]
    }
   ],
   "source": [
    "# Load the datasets into dataframe\n",
    "df_skincare = pd.read_csv('Skincare.csv')\n",
    "df_ingredients = pd.read_excel('Skincare_Ingredients.xls')\n",
    "print(\"Skincare datasets attributes:\",df_skincare.dtypes)\n",
    "print(\"Skincare ingredients attributes:\", df_ingredients.dtypes)\n"
   ]
  },
  {
   "cell_type": "code",
   "execution_count": 10,
   "id": "06f1fd78",
   "metadata": {},
   "outputs": [
    {
     "data": {
      "text/html": [
       "<div>\n",
       "<style scoped>\n",
       "    .dataframe tbody tr th:only-of-type {\n",
       "        vertical-align: middle;\n",
       "    }\n",
       "\n",
       "    .dataframe tbody tr th {\n",
       "        vertical-align: top;\n",
       "    }\n",
       "\n",
       "    .dataframe thead th {\n",
       "        text-align: right;\n",
       "    }\n",
       "</style>\n",
       "<table border=\"1\" class=\"dataframe\">\n",
       "  <thead>\n",
       "    <tr style=\"text-align: right;\">\n",
       "      <th></th>\n",
       "      <th>Label</th>\n",
       "      <th>brand</th>\n",
       "      <th>name</th>\n",
       "      <th>price</th>\n",
       "      <th>rank</th>\n",
       "      <th>ingredients</th>\n",
       "      <th>Combination</th>\n",
       "      <th>Dry</th>\n",
       "      <th>Normal</th>\n",
       "      <th>Oily</th>\n",
       "      <th>Sensitive</th>\n",
       "    </tr>\n",
       "  </thead>\n",
       "  <tbody>\n",
       "    <tr>\n",
       "      <th>0</th>\n",
       "      <td>Moisturizer</td>\n",
       "      <td>LA MER</td>\n",
       "      <td>Crème de la Mer</td>\n",
       "      <td>175</td>\n",
       "      <td>4.1</td>\n",
       "      <td>Algae (Seaweed) Extract, Mineral Oil, Petrolat...</td>\n",
       "      <td>1</td>\n",
       "      <td>1</td>\n",
       "      <td>1</td>\n",
       "      <td>1</td>\n",
       "      <td>1</td>\n",
       "    </tr>\n",
       "    <tr>\n",
       "      <th>1</th>\n",
       "      <td>Moisturizer</td>\n",
       "      <td>SK-II</td>\n",
       "      <td>Facial Treatment Essence</td>\n",
       "      <td>179</td>\n",
       "      <td>4.1</td>\n",
       "      <td>Galactomyces Ferment Filtrate (Pitera), Butyle...</td>\n",
       "      <td>1</td>\n",
       "      <td>1</td>\n",
       "      <td>1</td>\n",
       "      <td>1</td>\n",
       "      <td>1</td>\n",
       "    </tr>\n",
       "    <tr>\n",
       "      <th>2</th>\n",
       "      <td>Moisturizer</td>\n",
       "      <td>DRUNK ELEPHANT</td>\n",
       "      <td>Protini™ Polypeptide Cream</td>\n",
       "      <td>68</td>\n",
       "      <td>4.4</td>\n",
       "      <td>Water, Dicaprylyl Carbonate, Glycerin, Ceteary...</td>\n",
       "      <td>1</td>\n",
       "      <td>1</td>\n",
       "      <td>1</td>\n",
       "      <td>1</td>\n",
       "      <td>0</td>\n",
       "    </tr>\n",
       "    <tr>\n",
       "      <th>3</th>\n",
       "      <td>Moisturizer</td>\n",
       "      <td>LA MER</td>\n",
       "      <td>The Moisturizing Soft Cream</td>\n",
       "      <td>175</td>\n",
       "      <td>3.8</td>\n",
       "      <td>Algae (Seaweed) Extract, Cyclopentasiloxane, P...</td>\n",
       "      <td>1</td>\n",
       "      <td>1</td>\n",
       "      <td>1</td>\n",
       "      <td>1</td>\n",
       "      <td>1</td>\n",
       "    </tr>\n",
       "    <tr>\n",
       "      <th>4</th>\n",
       "      <td>Moisturizer</td>\n",
       "      <td>IT COSMETICS</td>\n",
       "      <td>Your Skin But Better™ CC+™ Cream with SPF 50+</td>\n",
       "      <td>38</td>\n",
       "      <td>4.1</td>\n",
       "      <td>Water, Snail Secretion Filtrate, Phenyl Trimet...</td>\n",
       "      <td>1</td>\n",
       "      <td>1</td>\n",
       "      <td>1</td>\n",
       "      <td>1</td>\n",
       "      <td>1</td>\n",
       "    </tr>\n",
       "  </tbody>\n",
       "</table>\n",
       "</div>"
      ],
      "text/plain": [
       "         Label           brand                                           name  \\\n",
       "0  Moisturizer          LA MER                                Crème de la Mer   \n",
       "1  Moisturizer           SK-II                       Facial Treatment Essence   \n",
       "2  Moisturizer  DRUNK ELEPHANT                     Protini™ Polypeptide Cream   \n",
       "3  Moisturizer          LA MER                    The Moisturizing Soft Cream   \n",
       "4  Moisturizer    IT COSMETICS  Your Skin But Better™ CC+™ Cream with SPF 50+   \n",
       "\n",
       "   price  rank                                        ingredients  \\\n",
       "0    175   4.1  Algae (Seaweed) Extract, Mineral Oil, Petrolat...   \n",
       "1    179   4.1  Galactomyces Ferment Filtrate (Pitera), Butyle...   \n",
       "2     68   4.4  Water, Dicaprylyl Carbonate, Glycerin, Ceteary...   \n",
       "3    175   3.8  Algae (Seaweed) Extract, Cyclopentasiloxane, P...   \n",
       "4     38   4.1  Water, Snail Secretion Filtrate, Phenyl Trimet...   \n",
       "\n",
       "   Combination  Dry  Normal  Oily  Sensitive  \n",
       "0            1    1       1     1          1  \n",
       "1            1    1       1     1          1  \n",
       "2            1    1       1     1          0  \n",
       "3            1    1       1     1          1  \n",
       "4            1    1       1     1          1  "
      ]
     },
     "execution_count": 10,
     "metadata": {},
     "output_type": "execute_result"
    }
   ],
   "source": [
    "df_skincare.head()"
   ]
  },
  {
   "cell_type": "code",
   "execution_count": 11,
   "id": "e76074dc",
   "metadata": {},
   "outputs": [
    {
     "data": {
      "text/html": [
       "<div>\n",
       "<style scoped>\n",
       "    .dataframe tbody tr th:only-of-type {\n",
       "        vertical-align: middle;\n",
       "    }\n",
       "\n",
       "    .dataframe tbody tr th {\n",
       "        vertical-align: top;\n",
       "    }\n",
       "\n",
       "    .dataframe thead th {\n",
       "        text-align: right;\n",
       "    }\n",
       "</style>\n",
       "<table border=\"1\" class=\"dataframe\">\n",
       "  <thead>\n",
       "    <tr style=\"text-align: right;\">\n",
       "      <th></th>\n",
       "      <th>CAS</th>\n",
       "      <th>List Name</th>\n",
       "      <th>TSCA Chemical Name</th>\n",
       "      <th>List Call</th>\n",
       "      <th>Caveat - Chemical Use</th>\n",
       "      <th>Edit Description</th>\n",
       "      <th>Date of Edit</th>\n",
       "    </tr>\n",
       "  </thead>\n",
       "  <tbody>\n",
       "    <tr>\n",
       "      <th>752</th>\n",
       "      <td>68605-97-0</td>\n",
       "      <td>Fatty acids, tallow, hydrogenated, compds. wit...</td>\n",
       "      <td>Fatty acids, tallow, hydrogenated, compds. wit...</td>\n",
       "      <td>Green [Circle]</td>\n",
       "      <td>NaN</td>\n",
       "      <td>Chemical added to the list</td>\n",
       "      <td>2012-12-21</td>\n",
       "    </tr>\n",
       "    <tr>\n",
       "      <th>753</th>\n",
       "      <td>26590-05-6</td>\n",
       "      <td>2-Propen-1-aminium, N,N-dimethyl-N-2-propenyl-...</td>\n",
       "      <td>2-Propen-1-aminium, N,N-dimethyl-N-2-propen-1-...</td>\n",
       "      <td>NaN</td>\n",
       "      <td>NaN</td>\n",
       "      <td>Chemical removed from list</td>\n",
       "      <td>2012-12-21</td>\n",
       "    </tr>\n",
       "    <tr>\n",
       "      <th>754</th>\n",
       "      <td>68989-22-0</td>\n",
       "      <td>Zeolites, NaA</td>\n",
       "      <td>Zeolites, NaA</td>\n",
       "      <td>Green [Circle]</td>\n",
       "      <td>NaN</td>\n",
       "      <td>Chemical added to the list</td>\n",
       "      <td>2012-12-21</td>\n",
       "    </tr>\n",
       "    <tr>\n",
       "      <th>755</th>\n",
       "      <td>1318-02-1</td>\n",
       "      <td>Zeolites</td>\n",
       "      <td>Zeolites</td>\n",
       "      <td>Green [Circle]</td>\n",
       "      <td>NaN</td>\n",
       "      <td>Chemical added to the list</td>\n",
       "      <td>2012-12-21</td>\n",
       "    </tr>\n",
       "    <tr>\n",
       "      <th>756</th>\n",
       "      <td>27593-14-2</td>\n",
       "      <td>Octyldimethylbetaine</td>\n",
       "      <td>1-Octanaminium, N-(carboxymethyl)-N,N-dimethyl...</td>\n",
       "      <td>Green [Circle]</td>\n",
       "      <td>NaN</td>\n",
       "      <td>Chemical added to the list</td>\n",
       "      <td>2012-12-21</td>\n",
       "    </tr>\n",
       "  </tbody>\n",
       "</table>\n",
       "</div>"
      ],
      "text/plain": [
       "            CAS                                          List Name  \\\n",
       "752  68605-97-0  Fatty acids, tallow, hydrogenated, compds. wit...   \n",
       "753  26590-05-6  2-Propen-1-aminium, N,N-dimethyl-N-2-propenyl-...   \n",
       "754  68989-22-0                                      Zeolites, NaA   \n",
       "755   1318-02-1                                           Zeolites   \n",
       "756  27593-14-2                               Octyldimethylbetaine   \n",
       "\n",
       "                                    TSCA Chemical Name       List Call  \\\n",
       "752  Fatty acids, tallow, hydrogenated, compds. wit...  Green [Circle]   \n",
       "753  2-Propen-1-aminium, N,N-dimethyl-N-2-propen-1-...             NaN   \n",
       "754                                      Zeolites, NaA  Green [Circle]   \n",
       "755                                           Zeolites  Green [Circle]   \n",
       "756  1-Octanaminium, N-(carboxymethyl)-N,N-dimethyl...  Green [Circle]   \n",
       "\n",
       "    Caveat - Chemical Use            Edit Description Date of Edit  \n",
       "752                   NaN  Chemical added to the list   2012-12-21  \n",
       "753                   NaN  Chemical removed from list   2012-12-21  \n",
       "754                   NaN  Chemical added to the list   2012-12-21  \n",
       "755                   NaN  Chemical added to the list   2012-12-21  \n",
       "756                   NaN  Chemical added to the list   2012-12-21  "
      ]
     },
     "execution_count": 11,
     "metadata": {},
     "output_type": "execute_result"
    }
   ],
   "source": [
    "df_ingredients.tail()"
   ]
  },
  {
   "cell_type": "code",
   "execution_count": 12,
   "id": "41010b3c",
   "metadata": {},
   "outputs": [
    {
     "data": {
      "text/plain": [
       "0       algae (seaweed) extract, mineral oil, petrolat...\n",
       "1       galactomyces ferment filtrate (pitera), butyle...\n",
       "2       water, dicaprylyl carbonate, glycerin, ceteary...\n",
       "3       algae (seaweed) extract, cyclopentasiloxane, p...\n",
       "4       water, snail secretion filtrate, phenyl trimet...\n",
       "                              ...                        \n",
       "1467    water, alcohol denat., potassium cetyl phospha...\n",
       "1468    water, isododecane, dimethicone, butyloctyl sa...\n",
       "1469    water, dihydroxyacetone, glycerin, sclerocarya...\n",
       "1470    water, dihydroxyacetone, propylene glycol, ppg...\n",
       "1471                        visit the dermaflash boutique\n",
       "Name: ingredients, Length: 1472, dtype: object"
      ]
     },
     "execution_count": 12,
     "metadata": {},
     "output_type": "execute_result"
    }
   ],
   "source": [
    "# Clean and preprocess ingredients name in skincare and ingredients dataframe\n",
    "df_skincare['ingredients'].str.lower().str.strip()\n"
   ]
  },
  {
   "cell_type": "code",
   "execution_count": 13,
   "id": "87048f50",
   "metadata": {},
   "outputs": [
    {
     "data": {
      "text/plain": [
       "0                               chitosan, acetate (salt)\n",
       "1              pentanoic acid, 4-oxo-, sodium salt (1:1)\n",
       "2      1-octanesulfonic acid, 3,3,4,4,5,5,6,6,7,7,8,8...\n",
       "3      fats and glyceridic oils, vegetable, hydrogenated\n",
       "4                                                    NaN\n",
       "                             ...                        \n",
       "752    fatty acids, tallow, hydrogenated, compds. wit...\n",
       "753    2-propen-1-aminium, n,n-dimethyl-n-2-propen-1-...\n",
       "754                                        zeolites, naa\n",
       "755                                             zeolites\n",
       "756    1-octanaminium, n-(carboxymethyl)-n,n-dimethyl...\n",
       "Name: TSCA Chemical Name, Length: 757, dtype: object"
      ]
     },
     "execution_count": 13,
     "metadata": {},
     "output_type": "execute_result"
    }
   ],
   "source": [
    "df_ingredients['TSCA Chemical Name'].str.lower().str.strip()"
   ]
  },
  {
   "cell_type": "code",
   "execution_count": 22,
   "id": "cb88d6e8",
   "metadata": {},
   "outputs": [],
   "source": [
    "# Define labels that indicate harmful ingredients\n",
    "harmful_labels = ['Yellow [Triangle]','Gray [Square]','Grey [Square]']\n"
   ]
  },
  {
   "cell_type": "code",
   "execution_count": 23,
   "id": "616efcfc",
   "metadata": {},
   "outputs": [
    {
     "name": "stdout",
     "output_type": "stream",
     "text": [
      "['6-Octen-1-ol, 3,7-dimethyl-', 'Ammonium hydroxide ((NH4)(OH))', '3-Buten-2-one, 3-methyl-4-(2,6,6-trimethyl-2-cyclohexen-1-yl)-', '6-Octen-1-ol, 3,7-dimethyl-, 1-acetate', 'Benzoic acid, 2-hydroxy-, (3Z)-3-hexen-1-yl ester', 'Decanal', 'Bicyclo[2.2.1]heptane, 2,2-dimethyl-3-methylene-', 'Disulfurous acid, sodium salt (1:2)', 'Benzene, 1,4-dimethoxy-', 'Boron sodium oxide (B4Na2O7)', 'Oils, orange, sweet', '1-Octanol, 3,7-dimethyl-', 'Cyclohexanepropanol, 2,2,6-trimethyl-.alpha.-propyl-', '1-Propanaminium, N-(carboxymethyl)-N,N-dimethyl-3-[[(3,3,4,4,5,5,6,6,7,7,8,8,8-tridecafluorooctyl)sulfonyl]amino]-, inner salt', 'Boron, trifluoro(tetrahydrofuran)-, (T-4)-, polymer with 3-methyl-3-[(2,2,3,3,3-pentafluoropropoxy)methyl]oxetane, ether with 2,2-dimethyl-1,3-propanediol (2:1), bis(hydrogen sulfate), diammonium salt', 'C.I. Pigment Yellow 100', 'Boric acid, sodium salt', 'Benzeneethanol, .alpha.,.alpha.-dimethyl-, 1-acetate', '1,4-Cyclohexadiene, 1-methyl-4-(1-methylethyl)-', 'Undecanal']\n"
     ]
    }
   ],
   "source": [
    "# Create list of ingredients that are classified as harmful\n",
    "harmful_ingredients = set(df_ingredients[df_ingredients['List Call'].isin(harmful_labels)]['TSCA Chemical Name'])\n",
    "print(list(harmful_ingredients)[:20])\n"
   ]
  },
  {
   "cell_type": "code",
   "execution_count": null,
   "id": "d13116a4",
   "metadata": {},
   "outputs": [],
   "source": []
  }
 ],
 "metadata": {
  "kernelspec": {
   "display_name": "Python 3 (ipykernel)",
   "language": "python",
   "name": "python3"
  },
  "language_info": {
   "codemirror_mode": {
    "name": "ipython",
    "version": 3
   },
   "file_extension": ".py",
   "mimetype": "text/x-python",
   "name": "python",
   "nbconvert_exporter": "python",
   "pygments_lexer": "ipython3",
   "version": "3.11.5"
  }
 },
 "nbformat": 4,
 "nbformat_minor": 5
}
