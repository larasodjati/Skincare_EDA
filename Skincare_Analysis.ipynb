{
 "cells": [
  {
   "cell_type": "markdown",
   "id": "a8a4bc3e",
   "metadata": {},
   "source": [
    "## Analysis of Harmful Ingredients in Skincare Products and Their Impact on Customer Sentiment and Ratings\n"
   ]
  },
  {
   "cell_type": "markdown",
   "id": "eb65f013",
   "metadata": {},
   "source": [
    "### Introduction\n",
    "\n",
    "The beauty industry is growing rapidly, with ingredients continually evolving to be safer and better for our health. Consumers are increasingly aware of the harmful ingredients used in their products, making it crucial to understand how these potentially harmful substances affect consumer sentiment and product ratings. This project aims to analyze the prevalence of harmful ingredients in skincare products and assess their impact on consumer perceptions and ratings.\n",
    "\n",
    "In this study, we will:\n",
    "1. **Identify Harmful Ingredients**: Utilize a reliable database to classify ingredients based on their safety profiles.\n",
    "2. **Determine Prevalence**: Calculate how common these harmful ingredients are in various skincare products.\n",
    "3. **Analyze Consumer Sentiment**: Perform sentiment analysis on consumer reviews to gauge awareness and reactions to harmful ingredients.\n",
    "4. **Evaluate Product Ratings**: Assess how the presence of harmful ingredients affects product ratings.\n",
    "5. **Correlation Analysis**: Explore the relationship between harmful ingredients, consumer sentiment, and product ratings.\n",
    "6. **Provide Insights and Recommendations**: Offer actionable recommendations for manufacturers and regulators based on our findings."
   ]
  },
  {
   "cell_type": "code",
   "execution_count": 1,
   "id": "b0f75fa4",
   "metadata": {},
   "outputs": [
    {
     "name": "stdout",
     "output_type": "stream",
     "text": [
      "Requirement already satisfied: pandas in c:\\users\\laras\\anaconda3\\lib\\site-packages (2.0.3)\n",
      "Requirement already satisfied: python-dateutil>=2.8.2 in c:\\users\\laras\\anaconda3\\lib\\site-packages (from pandas) (2.8.2)\n",
      "Requirement already satisfied: pytz>=2020.1 in c:\\users\\laras\\anaconda3\\lib\\site-packages (from pandas) (2023.3.post1)\n",
      "Requirement already satisfied: tzdata>=2022.1 in c:\\users\\laras\\anaconda3\\lib\\site-packages (from pandas) (2023.3)\n",
      "Requirement already satisfied: numpy>=1.21.0 in c:\\users\\laras\\anaconda3\\lib\\site-packages (from pandas) (1.24.3)\n",
      "Requirement already satisfied: six>=1.5 in c:\\users\\laras\\anaconda3\\lib\\site-packages (from python-dateutil>=2.8.2->pandas) (1.16.0)\n",
      "Note: you may need to restart the kernel to use updated packages.\n"
     ]
    }
   ],
   "source": [
    "pip install pandas"
   ]
  },
  {
   "cell_type": "code",
   "execution_count": 2,
   "id": "7a95991e",
   "metadata": {},
   "outputs": [
    {
     "name": "stdout",
     "output_type": "stream",
     "text": [
      "Requirement already satisfied: numpy in c:\\users\\laras\\anaconda3\\lib\\site-packages (1.24.3)\n",
      "Note: you may need to restart the kernel to use updated packages.\n"
     ]
    }
   ],
   "source": [
    "pip install numpy "
   ]
  },
  {
   "cell_type": "code",
   "execution_count": 3,
   "id": "26613bef",
   "metadata": {},
   "outputs": [
    {
     "name": "stdout",
     "output_type": "stream",
     "text": [
      "Requirement already satisfied: matplotlib in c:\\users\\laras\\anaconda3\\lib\\site-packages (3.7.2)\n",
      "Requirement already satisfied: contourpy>=1.0.1 in c:\\users\\laras\\anaconda3\\lib\\site-packages (from matplotlib) (1.0.5)\n",
      "Requirement already satisfied: cycler>=0.10 in c:\\users\\laras\\anaconda3\\lib\\site-packages (from matplotlib) (0.11.0)\n",
      "Requirement already satisfied: fonttools>=4.22.0 in c:\\users\\laras\\anaconda3\\lib\\site-packages (from matplotlib) (4.25.0)\n",
      "Requirement already satisfied: kiwisolver>=1.0.1 in c:\\users\\laras\\anaconda3\\lib\\site-packages (from matplotlib) (1.4.4)\n",
      "Requirement already satisfied: numpy>=1.20 in c:\\users\\laras\\anaconda3\\lib\\site-packages (from matplotlib) (1.24.3)\n",
      "Requirement already satisfied: packaging>=20.0 in c:\\users\\laras\\anaconda3\\lib\\site-packages (from matplotlib) (23.1)\n",
      "Requirement already satisfied: pillow>=6.2.0 in c:\\users\\laras\\anaconda3\\lib\\site-packages (from matplotlib) (10.2.0)\n",
      "Requirement already satisfied: pyparsing<3.1,>=2.3.1 in c:\\users\\laras\\anaconda3\\lib\\site-packages (from matplotlib) (3.0.9)\n",
      "Requirement already satisfied: python-dateutil>=2.7 in c:\\users\\laras\\anaconda3\\lib\\site-packages (from matplotlib) (2.8.2)\n",
      "Requirement already satisfied: six>=1.5 in c:\\users\\laras\\anaconda3\\lib\\site-packages (from python-dateutil>=2.7->matplotlib) (1.16.0)\n",
      "Note: you may need to restart the kernel to use updated packages.\n"
     ]
    }
   ],
   "source": [
    "pip install matplotlib"
   ]
  },
  {
   "cell_type": "code",
   "execution_count": 4,
   "id": "6e73bca7",
   "metadata": {},
   "outputs": [
    {
     "name": "stdout",
     "output_type": "stream",
     "text": [
      "Requirement already satisfied: xlrd in c:\\users\\laras\\anaconda3\\lib\\site-packages (2.0.1)\n",
      "Note: you may need to restart the kernel to use updated packages.\n"
     ]
    }
   ],
   "source": [
    "pip install xlrd"
   ]
  },
  {
   "cell_type": "code",
   "execution_count": 5,
   "id": "8649e2a8",
   "metadata": {},
   "outputs": [],
   "source": [
    "import pandas as pd\n",
    "import numpy as np\n",
    "import matplotlib.pyplot as plt\n",
    "import seaborn as sns "
   ]
  },
  {
   "cell_type": "markdown",
   "id": "c48f2a57",
   "metadata": {},
   "source": [
    "### Identify Harmful Ingredients"
   ]
  },
  {
   "cell_type": "code",
   "execution_count": 6,
   "id": "693358bc",
   "metadata": {},
   "outputs": [
    {
     "name": "stdout",
     "output_type": "stream",
     "text": [
      "Skincare datasets attributes: Label           object\n",
      "brand           object\n",
      "name            object\n",
      "price            int64\n",
      "rank           float64\n",
      "ingredients     object\n",
      "Combination      int64\n",
      "Dry              int64\n",
      "Normal           int64\n",
      "Oily             int64\n",
      "Sensitive        int64\n",
      "dtype: object\n",
      "Skincare ingredients attributes: CAS                              object\n",
      "List Name                        object\n",
      "TSCA Chemical Name               object\n",
      "List Call                        object\n",
      "Caveat - Chemical Use            object\n",
      "Edit Description                 object\n",
      "Date of Edit             datetime64[ns]\n",
      "dtype: object\n"
     ]
    }
   ],
   "source": [
    "# Load the datasets into dataframe\n",
    "df_skincare = pd.read_csv('Skincare.csv')\n",
    "df_ingredients = pd.read_excel('Skincare_Ingredients.xls')\n",
    "print(\"Skincare datasets attributes:\",df_skincare.dtypes)\n",
    "print(\"Skincare ingredients attributes:\", df_ingredients.dtypes)\n"
   ]
  },
  {
   "cell_type": "code",
   "execution_count": 7,
   "id": "06f1fd78",
   "metadata": {},
   "outputs": [
    {
     "data": {
      "text/html": [
       "<div>\n",
       "<style scoped>\n",
       "    .dataframe tbody tr th:only-of-type {\n",
       "        vertical-align: middle;\n",
       "    }\n",
       "\n",
       "    .dataframe tbody tr th {\n",
       "        vertical-align: top;\n",
       "    }\n",
       "\n",
       "    .dataframe thead th {\n",
       "        text-align: right;\n",
       "    }\n",
       "</style>\n",
       "<table border=\"1\" class=\"dataframe\">\n",
       "  <thead>\n",
       "    <tr style=\"text-align: right;\">\n",
       "      <th></th>\n",
       "      <th>Label</th>\n",
       "      <th>brand</th>\n",
       "      <th>name</th>\n",
       "      <th>price</th>\n",
       "      <th>rank</th>\n",
       "      <th>ingredients</th>\n",
       "      <th>Combination</th>\n",
       "      <th>Dry</th>\n",
       "      <th>Normal</th>\n",
       "      <th>Oily</th>\n",
       "      <th>Sensitive</th>\n",
       "    </tr>\n",
       "  </thead>\n",
       "  <tbody>\n",
       "    <tr>\n",
       "      <th>0</th>\n",
       "      <td>Moisturizer</td>\n",
       "      <td>LA MER</td>\n",
       "      <td>Crème de la Mer</td>\n",
       "      <td>175</td>\n",
       "      <td>4.1</td>\n",
       "      <td>Algae (Seaweed) Extract, Mineral Oil, Petrolat...</td>\n",
       "      <td>1</td>\n",
       "      <td>1</td>\n",
       "      <td>1</td>\n",
       "      <td>1</td>\n",
       "      <td>1</td>\n",
       "    </tr>\n",
       "    <tr>\n",
       "      <th>1</th>\n",
       "      <td>Moisturizer</td>\n",
       "      <td>SK-II</td>\n",
       "      <td>Facial Treatment Essence</td>\n",
       "      <td>179</td>\n",
       "      <td>4.1</td>\n",
       "      <td>Galactomyces Ferment Filtrate (Pitera), Butyle...</td>\n",
       "      <td>1</td>\n",
       "      <td>1</td>\n",
       "      <td>1</td>\n",
       "      <td>1</td>\n",
       "      <td>1</td>\n",
       "    </tr>\n",
       "    <tr>\n",
       "      <th>2</th>\n",
       "      <td>Moisturizer</td>\n",
       "      <td>DRUNK ELEPHANT</td>\n",
       "      <td>Protini™ Polypeptide Cream</td>\n",
       "      <td>68</td>\n",
       "      <td>4.4</td>\n",
       "      <td>Water, Dicaprylyl Carbonate, Glycerin, Ceteary...</td>\n",
       "      <td>1</td>\n",
       "      <td>1</td>\n",
       "      <td>1</td>\n",
       "      <td>1</td>\n",
       "      <td>0</td>\n",
       "    </tr>\n",
       "    <tr>\n",
       "      <th>3</th>\n",
       "      <td>Moisturizer</td>\n",
       "      <td>LA MER</td>\n",
       "      <td>The Moisturizing Soft Cream</td>\n",
       "      <td>175</td>\n",
       "      <td>3.8</td>\n",
       "      <td>Algae (Seaweed) Extract, Cyclopentasiloxane, P...</td>\n",
       "      <td>1</td>\n",
       "      <td>1</td>\n",
       "      <td>1</td>\n",
       "      <td>1</td>\n",
       "      <td>1</td>\n",
       "    </tr>\n",
       "    <tr>\n",
       "      <th>4</th>\n",
       "      <td>Moisturizer</td>\n",
       "      <td>IT COSMETICS</td>\n",
       "      <td>Your Skin But Better™ CC+™ Cream with SPF 50+</td>\n",
       "      <td>38</td>\n",
       "      <td>4.1</td>\n",
       "      <td>Water, Snail Secretion Filtrate, Phenyl Trimet...</td>\n",
       "      <td>1</td>\n",
       "      <td>1</td>\n",
       "      <td>1</td>\n",
       "      <td>1</td>\n",
       "      <td>1</td>\n",
       "    </tr>\n",
       "  </tbody>\n",
       "</table>\n",
       "</div>"
      ],
      "text/plain": [
       "         Label           brand                                           name  \\\n",
       "0  Moisturizer          LA MER                                Crème de la Mer   \n",
       "1  Moisturizer           SK-II                       Facial Treatment Essence   \n",
       "2  Moisturizer  DRUNK ELEPHANT                     Protini™ Polypeptide Cream   \n",
       "3  Moisturizer          LA MER                    The Moisturizing Soft Cream   \n",
       "4  Moisturizer    IT COSMETICS  Your Skin But Better™ CC+™ Cream with SPF 50+   \n",
       "\n",
       "   price  rank                                        ingredients  \\\n",
       "0    175   4.1  Algae (Seaweed) Extract, Mineral Oil, Petrolat...   \n",
       "1    179   4.1  Galactomyces Ferment Filtrate (Pitera), Butyle...   \n",
       "2     68   4.4  Water, Dicaprylyl Carbonate, Glycerin, Ceteary...   \n",
       "3    175   3.8  Algae (Seaweed) Extract, Cyclopentasiloxane, P...   \n",
       "4     38   4.1  Water, Snail Secretion Filtrate, Phenyl Trimet...   \n",
       "\n",
       "   Combination  Dry  Normal  Oily  Sensitive  \n",
       "0            1    1       1     1          1  \n",
       "1            1    1       1     1          1  \n",
       "2            1    1       1     1          0  \n",
       "3            1    1       1     1          1  \n",
       "4            1    1       1     1          1  "
      ]
     },
     "execution_count": 7,
     "metadata": {},
     "output_type": "execute_result"
    }
   ],
   "source": [
    "df_skincare.head()"
   ]
  },
  {
   "cell_type": "code",
   "execution_count": 8,
   "id": "e76074dc",
   "metadata": {},
   "outputs": [
    {
     "data": {
      "text/html": [
       "<div>\n",
       "<style scoped>\n",
       "    .dataframe tbody tr th:only-of-type {\n",
       "        vertical-align: middle;\n",
       "    }\n",
       "\n",
       "    .dataframe tbody tr th {\n",
       "        vertical-align: top;\n",
       "    }\n",
       "\n",
       "    .dataframe thead th {\n",
       "        text-align: right;\n",
       "    }\n",
       "</style>\n",
       "<table border=\"1\" class=\"dataframe\">\n",
       "  <thead>\n",
       "    <tr style=\"text-align: right;\">\n",
       "      <th></th>\n",
       "      <th>CAS</th>\n",
       "      <th>List Name</th>\n",
       "      <th>TSCA Chemical Name</th>\n",
       "      <th>List Call</th>\n",
       "      <th>Caveat - Chemical Use</th>\n",
       "      <th>Edit Description</th>\n",
       "      <th>Date of Edit</th>\n",
       "    </tr>\n",
       "  </thead>\n",
       "  <tbody>\n",
       "    <tr>\n",
       "      <th>752</th>\n",
       "      <td>68605-97-0</td>\n",
       "      <td>Fatty acids, tallow, hydrogenated, compds. wit...</td>\n",
       "      <td>Fatty acids, tallow, hydrogenated, compds. wit...</td>\n",
       "      <td>Green [Circle]</td>\n",
       "      <td>NaN</td>\n",
       "      <td>Chemical added to the list</td>\n",
       "      <td>2012-12-21</td>\n",
       "    </tr>\n",
       "    <tr>\n",
       "      <th>753</th>\n",
       "      <td>26590-05-6</td>\n",
       "      <td>2-Propen-1-aminium, N,N-dimethyl-N-2-propenyl-...</td>\n",
       "      <td>2-Propen-1-aminium, N,N-dimethyl-N-2-propen-1-...</td>\n",
       "      <td>NaN</td>\n",
       "      <td>NaN</td>\n",
       "      <td>Chemical removed from list</td>\n",
       "      <td>2012-12-21</td>\n",
       "    </tr>\n",
       "    <tr>\n",
       "      <th>754</th>\n",
       "      <td>68989-22-0</td>\n",
       "      <td>Zeolites, NaA</td>\n",
       "      <td>Zeolites, NaA</td>\n",
       "      <td>Green [Circle]</td>\n",
       "      <td>NaN</td>\n",
       "      <td>Chemical added to the list</td>\n",
       "      <td>2012-12-21</td>\n",
       "    </tr>\n",
       "    <tr>\n",
       "      <th>755</th>\n",
       "      <td>1318-02-1</td>\n",
       "      <td>Zeolites</td>\n",
       "      <td>Zeolites</td>\n",
       "      <td>Green [Circle]</td>\n",
       "      <td>NaN</td>\n",
       "      <td>Chemical added to the list</td>\n",
       "      <td>2012-12-21</td>\n",
       "    </tr>\n",
       "    <tr>\n",
       "      <th>756</th>\n",
       "      <td>27593-14-2</td>\n",
       "      <td>Octyldimethylbetaine</td>\n",
       "      <td>1-Octanaminium, N-(carboxymethyl)-N,N-dimethyl...</td>\n",
       "      <td>Green [Circle]</td>\n",
       "      <td>NaN</td>\n",
       "      <td>Chemical added to the list</td>\n",
       "      <td>2012-12-21</td>\n",
       "    </tr>\n",
       "  </tbody>\n",
       "</table>\n",
       "</div>"
      ],
      "text/plain": [
       "            CAS                                          List Name  \\\n",
       "752  68605-97-0  Fatty acids, tallow, hydrogenated, compds. wit...   \n",
       "753  26590-05-6  2-Propen-1-aminium, N,N-dimethyl-N-2-propenyl-...   \n",
       "754  68989-22-0                                      Zeolites, NaA   \n",
       "755   1318-02-1                                           Zeolites   \n",
       "756  27593-14-2                               Octyldimethylbetaine   \n",
       "\n",
       "                                    TSCA Chemical Name       List Call  \\\n",
       "752  Fatty acids, tallow, hydrogenated, compds. wit...  Green [Circle]   \n",
       "753  2-Propen-1-aminium, N,N-dimethyl-N-2-propen-1-...             NaN   \n",
       "754                                      Zeolites, NaA  Green [Circle]   \n",
       "755                                           Zeolites  Green [Circle]   \n",
       "756  1-Octanaminium, N-(carboxymethyl)-N,N-dimethyl...  Green [Circle]   \n",
       "\n",
       "    Caveat - Chemical Use            Edit Description Date of Edit  \n",
       "752                   NaN  Chemical added to the list   2012-12-21  \n",
       "753                   NaN  Chemical removed from list   2012-12-21  \n",
       "754                   NaN  Chemical added to the list   2012-12-21  \n",
       "755                   NaN  Chemical added to the list   2012-12-21  \n",
       "756                   NaN  Chemical added to the list   2012-12-21  "
      ]
     },
     "execution_count": 8,
     "metadata": {},
     "output_type": "execute_result"
    }
   ],
   "source": [
    "df_ingredients.tail()"
   ]
  },
  {
   "cell_type": "code",
   "execution_count": 9,
   "id": "41010b3c",
   "metadata": {},
   "outputs": [
    {
     "data": {
      "text/plain": [
       "0       algae (seaweed) extract, mineral oil, petrolat...\n",
       "1       galactomyces ferment filtrate (pitera), butyle...\n",
       "2       water, dicaprylyl carbonate, glycerin, ceteary...\n",
       "3       algae (seaweed) extract, cyclopentasiloxane, p...\n",
       "4       water, snail secretion filtrate, phenyl trimet...\n",
       "                              ...                        \n",
       "1467    water, alcohol denat., potassium cetyl phospha...\n",
       "1468    water, isododecane, dimethicone, butyloctyl sa...\n",
       "1469    water, dihydroxyacetone, glycerin, sclerocarya...\n",
       "1470    water, dihydroxyacetone, propylene glycol, ppg...\n",
       "1471                        visit the dermaflash boutique\n",
       "Name: ingredients, Length: 1472, dtype: object"
      ]
     },
     "execution_count": 9,
     "metadata": {},
     "output_type": "execute_result"
    }
   ],
   "source": [
    "# Clean and preprocess ingredients name in skincare and ingredients dataframe\n",
    "df_skincare['ingredients'].str.lower().str.strip()\n"
   ]
  },
  {
   "cell_type": "code",
   "execution_count": 10,
   "id": "87048f50",
   "metadata": {},
   "outputs": [
    {
     "data": {
      "text/plain": [
       "0                                       chitosan acetate\n",
       "1                                      sodium levulinate\n",
       "2                             halogenated aliphatic acid\n",
       "3      fats and glyceridic oils, vegetable, hydrogenated\n",
       "4                                            tocopherols\n",
       "                             ...                        \n",
       "752    fatty acids, tallow, hydrogenated, compds. wit...\n",
       "753    2-propen-1-aminium, n,n-dimethyl-n-2-propenyl-...\n",
       "754                                        zeolites, naa\n",
       "755                                             zeolites\n",
       "756                                 octyldimethylbetaine\n",
       "Name: List Name, Length: 757, dtype: object"
      ]
     },
     "execution_count": 10,
     "metadata": {},
     "output_type": "execute_result"
    }
   ],
   "source": [
    "df_ingredients['List Name'].str.lower().str.strip()"
   ]
  },
  {
   "cell_type": "code",
   "execution_count": 11,
   "id": "cb88d6e8",
   "metadata": {},
   "outputs": [],
   "source": [
    "# Define labels that indicate harmful ingredients\n",
    "harmful_labels = ['Yellow [Triangle]','Gray [Square]','Grey [Square]']\n"
   ]
  },
  {
   "cell_type": "code",
   "execution_count": 12,
   "id": "e539b5ed",
   "metadata": {},
   "outputs": [
    {
     "name": "stdout",
     "output_type": "stream",
     "text": [
      "['Terpinyl acetate', 'Cyclopentanone, 2-pentyl-', 'Terpineol (mixed isomers)', 'Aspartic acid, N-(1,2-dicarboxyethyl)-, tetrasodium salt', \"Phosphonic acid, P,P',P'',P'''-[[(phosphonomethyl)imino]bis[2,1-ethanediylnitrilobis(methylene)]]tetrakis-\", 'Verdyl acetate', 'Scentenal', 'Citronelloxyacetaldehyde', '1,3-Undecadien-5-yne', 'delta-Dodecalactone', 'l-Carvone', 'Potassium stannate trihydrate', 'Ionone', 'Oxirane, 2,2-dimethyl-3-(3-methyl-2,4-pentadien-1-yl)-', '2-Acetylnaphthalene', 'C.I. Direct Orange 26', 'Eucalyptol', 'Tetrahydrolinalool', 'Benzyldimethyl carbinyl acetate', 'gamma-Terpinene', 'C.I. Acid Blue 40', 'FD&C Yellow No. 6-aluminum lake', 'Pectate lyase', '4,7-Methano-1H-indenol, 3a,4,5,6,7,7a-hexahydro-, acetate', 'Bacillolysin Bacillus metalloprotease', 'Methyl benzoate', 'Nonanal', 'Disodium octaborate tetrahydrate', 'Boron trioxide', 'L-Menthol', 'Cyclohexanone, 2-(1-mercapto-1-methylethyl)-5-methyl-', 'Linalyl acetate', 'Propylene glycol phenyl ether', '1-Dodecanol', 'L-Carvone', 'Boron, trifluoro(tetrahydrofuran)-, (T-4)-, polymer with 3-methyl-3-[(2,2,3,3,3-pentafluoropropoxy)methyl]oxetane, ether with 2,2-dimethyl-1,3-propanediol (2:1), bis(hydrogen sulfate), diammonium salt', 'Etridronic acid', 'para-Ethyl-alpha,alpha-dimethyl-hydrocinnamaldehyde', 'Ligustral', '2,2,4-Trimethyl-1,3-pentanediol', 'Ethyl isovalerate', 'D-Menthol', 'Oxacyclohexadec-12-en-2-one, (12E)-', 'Benzenepentanol, gamma-methyl-', 'Decaldehyde', 'Methyl 2-nonynoate', 'Ammonium nitrate', 'Butanoic acid, 3-methyl-, 3-methylbutyl ester', 'Cuminaldehyde', 'Tetrapotassium pyrophosphate', 'Isopulegol', 'Boric acid, sodium salt', 'Melonal', 'Ethyl butyrate', 'Bis(2-ethylhexyl) sodium sulfosuccinate', 'Triethyl citrate', 'Nitric acid (aqueous)', 'Tetraacetyl ethylene diamine', 'Hydroxycitronellal', '1,4-dimethoxybenzene', 'Methyl delta-ionone', 'Oxirane, methyl-, polymer with oxirane, mono(2-ethylhexyl) ether', 'Phosphorous acid', 'D-Glucopyranose, oligomeric, 2-ethylhexyl glycosides', 'cis-3-hexenol', 'Disulfurous acid, disodium salt', 'FD&C Blue No. 1 aluminum lake', 'beta-Ionone', 'Diethylenetriaminepenta(methylenephosphonic acid), sodium salt', '1-Nonanol', 'Ethyl linalyl acetate', 'Oxacyclohexadec-13-en-2-one, (13Z)-', '1-Undecanol', 'Benzeneethanol', 'trans-3-Hexenol', '2,6-Dimethyl-2-heptanol', 'Sodium tripolyphosphate', 'Methyl oleate', 'Sodium ethasulfate', 'Hexyl Salicylate', 'Cyclohexanecarboxylic acid, 2,2-dimethyl-6-methylene-, methyl ester', '3-Hexenyl salicylate', 'Dipropylene glycol propyl ether', 'alpha-Isomethylionone', 'Isoamyl salicylate', '1-Tetradecanol', 'Octyl acetate', 'Sweet orange oil', 'C.I. Pigment Yellow 100', '.beta.-Cyclodextrin, 2-hydroxypropyl ethers', 'Linalool', '4-tert-Butylcyclohexanol', 'delta-Damascone', 'Methyl 2-nonenoate', 'Terpinolene', 'Dimethyl tetrahydrobenzaldehyde', 'Indole', '3-Cyclohexene-1-carboxaldehyde, 2,4,6-trimethyl-', 'Dimethylallyl acetate', '10-Undecenal', '3-Cyclohexen-1-ol, 4-methyl-1-(1-methylethyl)-', '9-Dodecenoic acid, methyl ester', 'Halogenated aliphatic acid', 'Disodium tin hexahydroxide', 'Undecanal', '2(3H)-Naphthalenone, 4,4a,5,6,7,8-hexahydro-4,4a-dimethyl-6-(1-methylethenyl)-, (4R,4aS,6R)-', 'Hexanal', 'Deoxyribonuclease', 'Soybean oil, methyl esters', 'Undecylenic acid', 'Propanoic acid, 2-methyl-, 3a,4,5,6,7,7a-hexahydro-4,7-methano-1H-inden-6-yl ester', 'Camphene', 'Phenoxyethanol', 'C.I. Acid Violet 48', 'Ammonium hydroxide', 'Heptasodium diethylenetriaminepentamethylenephosphonate', 'Dipentene', 'Methyl undecylenate', 'alpha-Ionone', 'delta-Decalactone', 'Isopropylphenylbutanal', 'Amphoteric fluorinated surfactant', 'Dihydrocitronellol', 'alpha-Terpineol', 'Citronellol', 'Ethyl dimethylhydrocinnamaldehyde', 'Boric acid, sodium salt pentahydrate', 'Citronellyl acetate', 'Tricyclodecenyl propionate', 'Tincalconite', 'Poly(oxy-1,2-ethanediyl), alpha-(2-propylheptyl)-omega-hydroxy-', 'Benzyl salicylate', 'Dodecanal', 'Boron sodium oxide (B4Na2O7)', 'Naphthalene, 2-ethoxy-', 'Ethyl linalool', 'Bis(1-methylamyl) sodium sulfosuccinate', '1,2,3,4,4a,7,8,8a-Octahydro-2,4a,5,8a-tetramethyl-1-naphthyl formate', 'Sodium tetraborate pentahydrate', '2-tert-Butylcyclohexanol', '3-Methyl-5-heptanone oxime', 'Verdox', 'Diphenyl oxide', '2-Butanone, 4-(4-hydroxyphenyl)-', 'Fatty acids, soya, Me esters', '2-Heptylcyclopentan-1-one', 'Oxacyclohexadec-12-en-2-one, (12Z)-', 'Siloxanes and Silicones, di-Me, 3-hydroxypropyl Me, ethoxylated propoxylated', 'Potassium stannate hexahydroxide', '1-Decanol', 'Isoamyl butyrate', 'Ammonium bicarbonate', 'Benzyl alcohol', 'Acetone', 'alpha-Methyl ionone', 'Isobutyl salicylate', 'Boron, trifluoro(tetrahydrofuran)-, (T-4)-, polymer with 3-methyl-3-[(2,2,2-trifluoroethoxy)methyl]oxetane, ether with 2,2-dimethyl-1,3-propanediol (2:1), bis(hydrogen sulfate), diammonium salt', 'Jasmone', 'Amyl acetate', 'Polynoxylin', 'Amyl salicylate', 'Menthol (unspecified isomer)', 'Carvone', 'Ammonium carbonate', 'Vanillyl acetone', '3-Decen-5-ol, 4-methyl-', 'Menthol, racemic', '(Z)- cis-3-Hexenyl acetate', '4-t-Butylcyclohexyl acetate ', 'Dicyclopentadiene propionate', 'Sodium acid pyrophosphate', 'Calone', 'Catalase', 'Trimethyl hydroxypentyl isobutyrate', '3(2H)-Isothiazolone, 2-octyl-', 'Ethyl undecylenate', 'Trisodium phosphate', 'Methylionone', '9-Decen-1-ol', 'Isocyclocitral', 'Oxirane, 2-methyl-, polymer with oxirane, mono(2-propylheptyl) ether', '3-cis-Hexenyl methyl carbonate', 'Diethylene glycol hexyl ether', 'Undecanal, 2-methyl-', 'Cyclohexanepropanol, 2,2,6-trimethyl-.alpha.-propyl-', 'Terpineol acetate', 'Diisobutyl carbinyl acetate', 'Propanoic acid, 2-methyl-, 3a,4,5,6,7,7a-hexahydro-4,7-methano-1H-inden-5-yl ester', 'Citronellal', '1-Octanol', 'Methyl delta ionone', 'Magnesium(II) nitrate, hexahydrate', 'Fatty acids, C16-18 and C18-unsatd., methyl esters', '4-Hydroxyacetophenone', 'Kernite', 'Sodium pyrophosphate', 'Octanal', 'Oxacyclohexadec-13-en-2-one, (13E)-', '2-Methylbutyl salicylate', 'Naphthalene, 2-methoxy-', 'Sulfuric acid (aqueous)']\n"
     ]
    }
   ],
   "source": [
    "# Create list of ingredients that are classified as harmful\n",
    "harmful_ingredients = set(df_ingredients[df_ingredients['List Call'].isin(harmful_labels)]['List Name'])\n",
    "print(list(harmful_ingredients))\n"
   ]
  },
  {
   "cell_type": "markdown",
   "id": "e748c412",
   "metadata": {},
   "source": [
    "### Determine Prevalence of Harmful Ingredients in Skincare Products"
   ]
  },
  {
   "cell_type": "code",
   "execution_count": 13,
   "id": "86061cc6",
   "metadata": {},
   "outputs": [],
   "source": [
    "# Create function to filter harmful ingedients in skincare dataframe\n",
    "def contains_harmful_ingredients(ingredient_list, harmful_ingredients):\n",
    "    # Split ingredients into a list of individual ingredients\n",
    "    # Use strip to remove any whitespace\n",
    "    ingredients = [ingredient.strip() for ingredient in ingredient_list.split(',')]\n",
    "    # Check for harmful ingredients\n",
    "    return any(ingredient in harmful_ingredients for ingredient in ingredients)\n"
   ]
  },
  {
   "cell_type": "code",
   "execution_count": 14,
   "id": "31797cca",
   "metadata": {},
   "outputs": [
    {
     "name": "stdout",
     "output_type": "stream",
     "text": [
      "            Label                          brand  \\\n",
      "0     Moisturizer                         LA MER   \n",
      "1     Moisturizer                          SK-II   \n",
      "2     Moisturizer                 DRUNK ELEPHANT   \n",
      "3     Moisturizer                         LA MER   \n",
      "4     Moisturizer                   IT COSMETICS   \n",
      "...           ...                            ...   \n",
      "1467  Sun protect                         KORRES   \n",
      "1468  Sun protect                KATE SOMERVILLE   \n",
      "1469  Sun protect                  VITA LIBERATA   \n",
      "1470  Sun protect  ST. TROPEZ TANNING ESSENTIALS   \n",
      "1471  Sun protect                     DERMAFLASH   \n",
      "\n",
      "                                                   name  price  rank  \\\n",
      "0                                       Crème de la Mer    175   4.1   \n",
      "1                              Facial Treatment Essence    179   4.1   \n",
      "2                            Protini™ Polypeptide Cream     68   4.4   \n",
      "3                           The Moisturizing Soft Cream    175   3.8   \n",
      "4         Your Skin But Better™ CC+™ Cream with SPF 50+     38   4.1   \n",
      "...                                                 ...    ...   ...   \n",
      "1467  Yoghurt Nourishing Fluid Veil Face Sunscreen B...     35   3.9   \n",
      "1468  Daily Deflector™ Waterlight Broad Spectrum SPF...     48   3.6   \n",
      "1469                            Self Tan Dry Oil SPF 50     54   3.5   \n",
      "1470                   Pro Light Self Tan Bronzing Mist     20   1.0   \n",
      "1471  DERMAPROTECT Daily Defense Broad Spectrum SPF 50+     45   0.0   \n",
      "\n",
      "                                            ingredients  Combination  Dry  \\\n",
      "0     Algae (Seaweed) Extract, Mineral Oil, Petrolat...            1    1   \n",
      "1     Galactomyces Ferment Filtrate (Pitera), Butyle...            1    1   \n",
      "2     Water, Dicaprylyl Carbonate, Glycerin, Ceteary...            1    1   \n",
      "3     Algae (Seaweed) Extract, Cyclopentasiloxane, P...            1    1   \n",
      "4     Water, Snail Secretion Filtrate, Phenyl Trimet...            1    1   \n",
      "...                                                 ...          ...  ...   \n",
      "1467  Water, Alcohol Denat., Potassium Cetyl Phospha...            1    1   \n",
      "1468  Water, Isododecane, Dimethicone, Butyloctyl Sa...            0    0   \n",
      "1469  Water, Dihydroxyacetone, Glycerin, Sclerocarya...            0    0   \n",
      "1470  Water, Dihydroxyacetone, Propylene Glycol, PPG...            0    0   \n",
      "1471                      Visit the DERMAFLASH boutique            1    1   \n",
      "\n",
      "      Normal  Oily  Sensitive  Has Harmful Ingredients  \n",
      "0          1     1          1                     True  \n",
      "1          1     1          1                    False  \n",
      "2          1     1          0                     True  \n",
      "3          1     1          1                     True  \n",
      "4          1     1          1                     True  \n",
      "...      ...   ...        ...                      ...  \n",
      "1467       1     1          1                     True  \n",
      "1468       0     0          0                     True  \n",
      "1469       0     0          0                    False  \n",
      "1470       0     0          0                     True  \n",
      "1471       1     1          1                    False  \n",
      "\n",
      "[1472 rows x 12 columns]\n"
     ]
    }
   ],
   "source": [
    "# Apply the function to the skincare dataframe\n",
    "df_skincare['Has Harmful Ingredients'] = df_skincare['ingredients'].apply(contains_harmful_ingredients, args=(harmful_ingredients,))\n",
    "print(df_skincare)\n"
   ]
  },
  {
   "cell_type": "code",
   "execution_count": 15,
   "id": "6c36b978",
   "metadata": {},
   "outputs": [
    {
     "name": "stdout",
     "output_type": "stream",
     "text": [
      "Total number of skincare products: 1472\n",
      "Total number of skincare products with harmful ingredients:863\n",
      "Prevalence of harmful ingredients:58.63%\n"
     ]
    }
   ],
   "source": [
    "# Calculate the total number of products and the number with harmful ingredients to find the prevalence.\n",
    "# Total products\n",
    "total_products = len(df_skincare)\n",
    "print(f\"Total number of skincare products: {total_products}\")\n",
    "\n",
    "# Total products with harmful ingredients\n",
    "products_with_harmful_ingredients = df_skincare['Has Harmful Ingredients'].sum()\n",
    "print(f\"Total number of skincare products with harmful ingredients:{products_with_harmful_ingredients}\")\n",
    "\n",
    "# Calculate the prevalence of products with harmful ingredients\n",
    "prevalence_of_harmful_ingredients = (products_with_harmful_ingredients / total_products)*100\n",
    "print(f\"Prevalence of harmful ingredients:{prevalence_of_harmful_ingredients:.2f}%\")"
   ]
  },
  {
   "cell_type": "markdown",
   "id": "d2211432",
   "metadata": {},
   "source": [
    "### Analyze Consumer Sentiment"
   ]
  },
  {
   "cell_type": "code",
   "execution_count": 16,
   "id": "f25c9a68",
   "metadata": {},
   "outputs": [
    {
     "name": "stdout",
     "output_type": "stream",
     "text": [
      "         Label           brand                                           name  \\\n",
      "0  Moisturizer          LA MER                                Crème de la Mer   \n",
      "1  Moisturizer           SK-II                       Facial Treatment Essence   \n",
      "2  Moisturizer  DRUNK ELEPHANT                     Protini™ Polypeptide Cream   \n",
      "3  Moisturizer          LA MER                    The Moisturizing Soft Cream   \n",
      "4  Moisturizer    IT COSMETICS  Your Skin But Better™ CC+™ Cream with SPF 50+   \n",
      "\n",
      "   price  rank                                        ingredients  \\\n",
      "0    175   4.1  Algae (Seaweed) Extract, Mineral Oil, Petrolat...   \n",
      "1    179   4.1  Galactomyces Ferment Filtrate (Pitera), Butyle...   \n",
      "2     68   4.4  Water, Dicaprylyl Carbonate, Glycerin, Ceteary...   \n",
      "3    175   3.8  Algae (Seaweed) Extract, Cyclopentasiloxane, P...   \n",
      "4     38   4.1  Water, Snail Secretion Filtrate, Phenyl Trimet...   \n",
      "\n",
      "   Combination  Dry  Normal  Oily  Sensitive  Has Harmful Ingredients  \\\n",
      "0            1    1       1     1          1                     True   \n",
      "1            1    1       1     1          1                    False   \n",
      "2            1    1       1     1          0                     True   \n",
      "3            1    1       1     1          1                     True   \n",
      "4            1    1       1     1          1                     True   \n",
      "\n",
      "  Sentiment  \n",
      "0  Positive  \n",
      "1  Positive  \n",
      "2  Positive  \n",
      "3   Neutral  \n",
      "4  Positive  \n"
     ]
    }
   ],
   "source": [
    "# Classify ratings into sentiment categories\n",
    "# Positive: Ratings 4.0-5.0\n",
    "# Neutral: Ratings 3.0 - 3.9\n",
    "# Negative: Ratings 0 - 2.9\n",
    "\n",
    "def classify_rating(rating):\n",
    "    if rating >= 4:\n",
    "        return 'Positive'\n",
    "    elif 3 <= rating < 4:\n",
    "        return 'Neutral'\n",
    "    else:\n",
    "        return 'Negative'\n",
    "    \n",
    "# Apply function to skincare dataframe\n",
    "df_skincare['Sentiment'] = df_skincare['rank'].apply(classify_rating)\n",
    "print(df_skincare.head())\n"
   ]
  },
  {
   "cell_type": "code",
   "execution_count": 17,
   "id": "97637585",
   "metadata": {},
   "outputs": [
    {
     "name": "stdout",
     "output_type": "stream",
     "text": [
      "Products with harmful ingredients are:             Label                          brand  \\\n",
      "0     Moisturizer                         LA MER   \n",
      "2     Moisturizer                 DRUNK ELEPHANT   \n",
      "3     Moisturizer                         LA MER   \n",
      "4     Moisturizer                   IT COSMETICS   \n",
      "6     Moisturizer                 DRUNK ELEPHANT   \n",
      "...           ...                            ...   \n",
      "1464  Sun protect                   IT COSMETICS   \n",
      "1466  Sun protect                KATE SOMERVILLE   \n",
      "1467  Sun protect                         KORRES   \n",
      "1468  Sun protect                KATE SOMERVILLE   \n",
      "1470  Sun protect  ST. TROPEZ TANNING ESSENTIALS   \n",
      "\n",
      "                                                   name  price  rank  \\\n",
      "0                                       Crème de la Mer    175   4.1   \n",
      "2                            Protini™ Polypeptide Cream     68   4.4   \n",
      "3                           The Moisturizing Soft Cream    175   3.8   \n",
      "4         Your Skin But Better™ CC+™ Cream with SPF 50+     38   4.1   \n",
      "6                             Lala Retro™ Whipped Cream     60   4.2   \n",
      "...                                                 ...    ...   ...   \n",
      "1464  Anti-Aging Armour™ Super Smart Skin-Perfecting...     38   4.1   \n",
      "1466  Daily Deflector™ Moisturizer Broad Spectrum SP...     48   3.9   \n",
      "1467  Yoghurt Nourishing Fluid Veil Face Sunscreen B...     35   3.9   \n",
      "1468  Daily Deflector™ Waterlight Broad Spectrum SPF...     48   3.6   \n",
      "1470                   Pro Light Self Tan Bronzing Mist     20   1.0   \n",
      "\n",
      "                                            ingredients  Combination  Dry  \\\n",
      "0     Algae (Seaweed) Extract, Mineral Oil, Petrolat...            1    1   \n",
      "2     Water, Dicaprylyl Carbonate, Glycerin, Ceteary...            1    1   \n",
      "3     Algae (Seaweed) Extract, Cyclopentasiloxane, P...            1    1   \n",
      "4     Water, Snail Secretion Filtrate, Phenyl Trimet...            1    1   \n",
      "6     Water, Glycerin, Caprylic/ Capric Triglyceride...            1    1   \n",
      "...                                                 ...          ...  ...   \n",
      "1464  Water, Cyclopentasiloxane, Butyloctyl Salicyla...            1    1   \n",
      "1466  Water, Butylene Glycol, PEG-8, Glycerin, Undec...            0    0   \n",
      "1467  Water, Alcohol Denat., Potassium Cetyl Phospha...            1    1   \n",
      "1468  Water, Isododecane, Dimethicone, Butyloctyl Sa...            0    0   \n",
      "1470  Water, Dihydroxyacetone, Propylene Glycol, PPG...            0    0   \n",
      "\n",
      "      Normal  Oily  Sensitive  Has Harmful Ingredients Sentiment  \n",
      "0          1     1          1                     True  Positive  \n",
      "2          1     1          0                     True  Positive  \n",
      "3          1     1          1                     True   Neutral  \n",
      "4          1     1          1                     True  Positive  \n",
      "6          1     1          0                     True  Positive  \n",
      "...      ...   ...        ...                      ...       ...  \n",
      "1464       1     1          1                     True  Positive  \n",
      "1466       0     0          0                     True   Neutral  \n",
      "1467       1     1          1                     True   Neutral  \n",
      "1468       0     0          0                     True   Neutral  \n",
      "1470       0     0          0                     True  Negative  \n",
      "\n",
      "[863 rows x 13 columns]\n",
      "Products without harmful ingredients:             Label               brand  \\\n",
      "1     Moisturizer               SK-II   \n",
      "5     Moisturizer              TATCHA   \n",
      "7     Moisturizer      DRUNK ELEPHANT   \n",
      "11    Moisturizer  KIEHL'S SINCE 1851   \n",
      "13    Moisturizer        SUNDAY RILEY   \n",
      "...           ...                 ...   \n",
      "1462  Sun protect               COOLA   \n",
      "1463  Sun protect       VITA LIBERATA   \n",
      "1465  Sun protect         URBAN DECAY   \n",
      "1469  Sun protect       VITA LIBERATA   \n",
      "1471  Sun protect          DERMAFLASH   \n",
      "\n",
      "                                                   name  price  rank  \\\n",
      "1                              Facial Treatment Essence    179   4.1   \n",
      "5                                       The Water Cream     68   4.2   \n",
      "7                       Virgin Marula Luxury Facial Oil     72   4.4   \n",
      "11                        Midnight Recovery Concentrate     47   4.4   \n",
      "13                              Luna Sleeping Night Oil    105   4.1   \n",
      "...                                                 ...    ...   ...   \n",
      "1462                                         Summer Duo     36   4.8   \n",
      "1463  Passionflower & Argan Dry Oil Broad Spectrum S...     45   4.2   \n",
      "1465  Naked Skin Bronzing Beauty Balm Broad Spectrum...     34   4.1   \n",
      "1469                            Self Tan Dry Oil SPF 50     54   3.5   \n",
      "1471  DERMAPROTECT Daily Defense Broad Spectrum SPF 50+     45   0.0   \n",
      "\n",
      "                                            ingredients  Combination  Dry  \\\n",
      "1     Galactomyces Ferment Filtrate (Pitera), Butyle...            1    1   \n",
      "5     Water, Saccharomyces/Camellia Sinensis Leaf/Cl...            1    0   \n",
      "7     100% Unrefined Sclerocraya Birrea (Marula) Ker...            1    1   \n",
      "11    Caprylic/Capric Triglyceride Dicaprylyl Carbon...            1    1   \n",
      "13    Persea Gratissima (Extra Virgin, Cold Pressed ...            1    1   \n",
      "...                                                 ...          ...  ...   \n",
      "1462                           Visit the COOLA boutique            0    0   \n",
      "1463  Prunus Amygdalus Dulcis (Sweet Almond) Oil*, C...            0    0   \n",
      "1465  -Pepha® (derived from watermelon extract): Pro...            0    0   \n",
      "1469  Water, Dihydroxyacetone, Glycerin, Sclerocarya...            0    0   \n",
      "1471                      Visit the DERMAFLASH boutique            1    1   \n",
      "\n",
      "      Normal  Oily  Sensitive  Has Harmful Ingredients Sentiment  \n",
      "1          1     1          1                    False  Positive  \n",
      "5          1     1          1                    False  Positive  \n",
      "7          1     1          0                    False  Positive  \n",
      "11         1     1          1                    False  Positive  \n",
      "13         1     1          1                    False  Positive  \n",
      "...      ...   ...        ...                      ...       ...  \n",
      "1462       0     0          0                    False  Positive  \n",
      "1463       0     0          0                    False  Positive  \n",
      "1465       0     0          0                    False  Positive  \n",
      "1469       0     0          0                    False   Neutral  \n",
      "1471       1     1          1                    False  Negative  \n",
      "\n",
      "[609 rows x 13 columns]\n"
     ]
    }
   ],
   "source": [
    "#Calculate the sentiment distribution for products with and without harmful ingredients\n",
    "#Filter dataframe for products with and without harmful ingredients\n",
    "\n",
    "with_harmful_ingredients = df_skincare[df_skincare['Has Harmful Ingredients'] == True]\n",
    "without_harmful_ingredients = df_skincare[df_skincare['Has Harmful Ingredients'] == False]\n",
    "\n",
    "print(\"Products with harmful ingredients are:\", with_harmful_ingredients)\n",
    "print(\"Products without harmful ingredients:\", without_harmful_ingredients)"
   ]
  },
  {
   "cell_type": "code",
   "execution_count": 18,
   "id": "1684fb00",
   "metadata": {},
   "outputs": [
    {
     "name": "stdout",
     "output_type": "stream",
     "text": [
      "Sentiment distribution with harmful ingredients: Sentiment\n",
      "Positive    74.044032\n",
      "Neutral     23.638470\n",
      "Negative     2.317497\n",
      "Name: proportion, dtype: float64\n",
      "Sentiment distribution without harmful ingredients: Sentiment\n",
      "Positive    80.295567\n",
      "Neutral     17.898194\n",
      "Negative     1.806240\n",
      "Name: proportion, dtype: float64\n"
     ]
    }
   ],
   "source": [
    "#Normalize the sentiment with percentage\n",
    "sentiment_distribution_with = with_harmful_ingredients['Sentiment'].value_counts(normalize = True)*100\n",
    "sentiment_distribution_without = without_harmful_ingredients['Sentiment'].value_counts(normalize = True)*100\n",
    "print(\"Sentiment distribution with harmful ingredients:\", sentiment_distribution_with)\n",
    "print(\"Sentiment distribution without harmful ingredients:\", sentiment_distribution_without)"
   ]
  },
  {
   "cell_type": "code",
   "execution_count": 19,
   "id": "2ba6fb0b",
   "metadata": {},
   "outputs": [],
   "source": [
    "# Visualize the sentiment distribution for products with and without harmful ingredients\n",
    "# Assuming both sentiment distributions not in numpy arrays\n",
    "labels = sentiment_distribution_with.index.tolist()\n",
    "with_values = sentiment_distribution_with.values\n",
    "without_values = sentiment_distribution_without.values"
   ]
  },
  {
   "cell_type": "code",
   "execution_count": 21,
   "id": "e2f24bfd",
   "metadata": {},
   "outputs": [
    {
     "data": {
      "text/plain": [
       "<matplotlib.legend.Legend at 0x1ca79d63890>"
      ]
     },
     "execution_count": 21,
     "metadata": {},
     "output_type": "execute_result"
    },
    {
     "data": {
      "image/png": "[encoded data removed]",
      "text/plain": [
       "<Figure size 640x480 with 1 Axes>"
      ]
     },
     "metadata": {},
     "output_type": "display_data"
    }
   ],
   "source": [
    "#Plotting\n",
    "x = np.arange(len(labels)) #label location\n",
    "width = 0.35\n",
    "\n",
    "fig, ax = plt.subplots()\n",
    "rect1 = ax.bar(x - width/2, with_values, width, label=\"Product with Harmful Ingredients\")\n",
    "rect2 = ax.bar(x + width/2, without_values, width, label=\"product without Harmful Ingredients\")\n",
    "\n",
    "ax.set_xlabel('Sentiment')\n",
    "ax.set_ylabel('Percentage(%)')\n",
    "ax.set_title('Sentiment Distribution for Products with and without Harmful Ingredients')\n",
    "ax.set_xticks(x)\n",
    "ax.set_xticklabels(labels)\n",
    "ax.legend()\n"
   ]
  },
  {
   "cell_type": "markdown",
   "id": "0ef235cf",
   "metadata": {},
   "source": [
    "### Evaluate Product Ratings"
   ]
  },
  {
   "cell_type": "code",
   "execution_count": 24,
   "id": "828bbb99",
   "metadata": {},
   "outputs": [
    {
     "name": "stdout",
     "output_type": "stream",
     "text": [
      "Average rating for products with harmful ingredients: 4.125492468134414\n",
      "Average rating for products without harmful ingredients: 4.192610837438424\n"
     ]
    }
   ],
   "source": [
    "# Calculate average rating of products\n",
    "with_harmful_ingredients = df_skincare[df_skincare['Has Harmful Ingredients'] == True]\n",
    "avg_rating_with_harmful = with_harmful_ingredients['rank'].mean()\n",
    "print(\"Average rating for products with harmful ingredients:\", avg_rating_with_harmful)\n",
    "\n",
    "without_harmful_ingredients = df_skincare[df_skincare['Has Harmful Ingredients'] == False]\n",
    "avg_rating_without_harmful = without_harmful_ingredients['rank'].mean()\n",
    "print(\"Average rating for products without harmful ingredients:\", avg_rating_without_harmful)\n"
   ]
  },
  {
   "cell_type": "code",
   "execution_count": null,
   "id": "fb5483dc",
   "metadata": {},
   "outputs": [],
   "source": []
  }
 ],
 "metadata": {
  "kernelspec": {
   "display_name": "Python 3 (ipykernel)",
   "language": "python",
   "name": "python3"
  },
  "language_info": {
   "codemirror_mode": {
    "name": "ipython",
    "version": 3
   },
   "file_extension": ".py",
   "mimetype": "text/x-python",
   "name": "python",
   "nbconvert_exporter": "python",
   "pygments_lexer": "ipython3",
   "version": "3.11.5"
  }
 },
 "nbformat": 4,
 "nbformat_minor": 5
}
