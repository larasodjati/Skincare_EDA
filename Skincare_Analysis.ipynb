{
 "cells": [
  {
   "cell_type": "markdown",
   "id": "a8a4bc3e",
   "metadata": {},
   "source": [
    "## Analysis of Harmful Ingredients in Skincare Products and Their Impact on Customer Sentiment and Ratings\n"
   ]
  },
  {
   "cell_type": "markdown",
   "id": "eb65f013",
   "metadata": {},
   "source": [
    "### Introduction\n",
    "\n",
    "The beauty industry is growing rapidly, with ingredients continually evolving to be safer and better for our health. Consumers are increasingly aware of the harmful ingredients used in their products, making it crucial to understand how these potentially harmful substances affect consumer sentiment and product ratings. This project aims to analyze the prevalence of harmful ingredients in skincare products and assess their impact on consumer perceptions and ratings.\n",
    "\n",
    "In this study, we will:\n",
    "1. **Identify Harmful Ingredients**: Utilize a reliable database to classify ingredients based on their safety profiles.\n",
    "2. **Determine Prevalence**: Calculate how common these harmful ingredients are in various skincare products.\n",
    "3. **Analyze Consumer Sentiment**: Perform sentiment analysis on consumer reviews to gauge awareness and reactions to harmful ingredients.\n",
    "4. **Evaluate Product Ratings**: Assess how the presence of harmful ingredients affects product ratings.\n",
    "5. **Correlation Analysis**: Explore the relationship between harmful ingredients, consumer sentiment, and product ratings.\n",
    "6. **Provide Insights and Recommendations**: Offer actionable recommendations for manufacturers and regulators based on our findings."
   ]
  },
  {
   "cell_type": "code",
   "execution_count": 1,
   "id": "b0f75fa4",
   "metadata": {},
   "outputs": [
    {
     "name": "stdout",
     "output_type": "stream",
     "text": [
      "Requirement already satisfied: pandas in c:\\users\\laras\\anaconda3\\lib\\site-packages (2.0.3)\n",
      "Requirement already satisfied: python-dateutil>=2.8.2 in c:\\users\\laras\\anaconda3\\lib\\site-packages (from pandas) (2.8.2)\n",
      "Requirement already satisfied: pytz>=2020.1 in c:\\users\\laras\\anaconda3\\lib\\site-packages (from pandas) (2023.3.post1)\n",
      "Requirement already satisfied: tzdata>=2022.1 in c:\\users\\laras\\anaconda3\\lib\\site-packages (from pandas) (2023.3)\n",
      "Requirement already satisfied: numpy>=1.21.0 in c:\\users\\laras\\anaconda3\\lib\\site-packages (from pandas) (1.24.3)\n",
      "Requirement already satisfied: six>=1.5 in c:\\users\\laras\\anaconda3\\lib\\site-packages (from python-dateutil>=2.8.2->pandas) (1.16.0)\n",
      "Note: you may need to restart the kernel to use updated packages.\n"
     ]
    }
   ],
   "source": [
    "pip install pandas"
   ]
  },
  {
   "cell_type": "code",
   "execution_count": 2,
   "id": "7a95991e",
   "metadata": {},
   "outputs": [
    {
     "name": "stdout",
     "output_type": "stream",
     "text": [
      "Requirement already satisfied: numpy in c:\\users\\laras\\anaconda3\\lib\\site-packages (1.24.3)\n",
      "Note: you may need to restart the kernel to use updated packages.\n"
     ]
    }
   ],
   "source": [
    "pip install numpy "
   ]
  },
  {
   "cell_type": "code",
   "execution_count": 3,
   "id": "26613bef",
   "metadata": {},
   "outputs": [
    {
     "name": "stdout",
     "output_type": "stream",
     "text": [
      "Requirement already satisfied: matplotlib in c:\\users\\laras\\anaconda3\\lib\\site-packages (3.7.2)\n",
      "Requirement already satisfied: contourpy>=1.0.1 in c:\\users\\laras\\anaconda3\\lib\\site-packages (from matplotlib) (1.0.5)\n",
      "Requirement already satisfied: cycler>=0.10 in c:\\users\\laras\\anaconda3\\lib\\site-packages (from matplotlib) (0.11.0)\n",
      "Requirement already satisfied: fonttools>=4.22.0 in c:\\users\\laras\\anaconda3\\lib\\site-packages (from matplotlib) (4.25.0)\n",
      "Requirement already satisfied: kiwisolver>=1.0.1 in c:\\users\\laras\\anaconda3\\lib\\site-packages (from matplotlib) (1.4.4)\n",
      "Requirement already satisfied: numpy>=1.20 in c:\\users\\laras\\anaconda3\\lib\\site-packages (from matplotlib) (1.24.3)\n",
      "Requirement already satisfied: packaging>=20.0 in c:\\users\\laras\\anaconda3\\lib\\site-packages (from matplotlib) (23.1)\n",
      "Requirement already satisfied: pillow>=6.2.0 in c:\\users\\laras\\anaconda3\\lib\\site-packages (from matplotlib) (10.2.0)\n",
      "Requirement already satisfied: pyparsing<3.1,>=2.3.1 in c:\\users\\laras\\anaconda3\\lib\\site-packages (from matplotlib) (3.0.9)\n",
      "Requirement already satisfied: python-dateutil>=2.7 in c:\\users\\laras\\anaconda3\\lib\\site-packages (from matplotlib) (2.8.2)\n",
      "Requirement already satisfied: six>=1.5 in c:\\users\\laras\\anaconda3\\lib\\site-packages (from python-dateutil>=2.7->matplotlib) (1.16.0)\n",
      "Note: you may need to restart the kernel to use updated packages.\n"
     ]
    }
   ],
   "source": [
    "pip install matplotlib"
   ]
  },
  {
   "cell_type": "code",
   "execution_count": 7,
   "id": "6e73bca7",
   "metadata": {},
   "outputs": [
    {
     "name": "stdout",
     "output_type": "stream",
     "text": [
      "Collecting xlrd\n",
      "  Obtaining dependency information for xlrd from https://files.pythonhosted.org/packages/a6/0c/c2a72d51fe56e08a08acc85d13013558a2d793028ae7385448a6ccdfae64/xlrd-2.0.1-py2.py3-none-any.whl.metadata\n",
      "  Downloading xlrd-2.0.1-py2.py3-none-any.whl.metadata (3.4 kB)\n",
      "Downloading xlrd-2.0.1-py2.py3-none-any.whl (96 kB)\n",
      "   ---------------------------------------- 0.0/96.5 kB ? eta -:--:--\n",
      "   ------------ --------------------------- 30.7/96.5 kB 1.4 MB/s eta 0:00:01\n",
      "   ---------------------------------------- 96.5/96.5 kB 1.4 MB/s eta 0:00:00\n",
      "Installing collected packages: xlrd\n",
      "Successfully installed xlrd-2.0.1\n",
      "Note: you may need to restart the kernel to use updated packages.\n"
     ]
    }
   ],
   "source": [
    "pip install xlrd"
   ]
  },
  {
   "cell_type": "code",
   "execution_count": 9,
   "id": "8649e2a8",
   "metadata": {},
   "outputs": [],
   "source": [
    "import pandas as pd\n",
    "import numpy as np\n",
    "import matplotlib.pyplot as plt\n",
    "import seaborn as sns "
   ]
  },
  {
   "cell_type": "code",
   "execution_count": 13,
   "id": "693358bc",
   "metadata": {},
   "outputs": [
    {
     "name": "stdout",
     "output_type": "stream",
     "text": [
      "Skincare datasets attributes: Label           object\n",
      "brand           object\n",
      "name            object\n",
      "price            int64\n",
      "rank           float64\n",
      "ingredients     object\n",
      "Combination      int64\n",
      "Dry              int64\n",
      "Normal           int64\n",
      "Oily             int64\n",
      "Sensitive        int64\n",
      "dtype: object\n",
      "Skincare ingredients attributes: CAS                              object\n",
      "List Name                        object\n",
      "TSCA Chemical Name               object\n",
      "List Call                        object\n",
      "Caveat - Chemical Use            object\n",
      "Edit Description                 object\n",
      "Date of Edit             datetime64[ns]\n",
      "dtype: object\n"
     ]
    }
   ],
   "source": [
    "# Load the datasets into dataframe\n",
    "df_skincare = pd.read_csv('Skincare.csv')\n",
    "df_ingredients = pd.read_excel('Skincare_Ingredients.xls')\n",
    "print(\"Skincare datasets attributes:\",df_skincare.dtypes)\n",
    "print(\"Skincare ingredients attributes:\", df_ingredients.dtypes)\n"
   ]
  },
  {
   "cell_type": "code",
   "execution_count": 14,
   "id": "06f1fd78",
   "metadata": {},
   "outputs": [
    {
     "data": {
      "text/html": [
       "<div>\n",
       "<style scoped>\n",
       "    .dataframe tbody tr th:only-of-type {\n",
       "        vertical-align: middle;\n",
       "    }\n",
       "\n",
       "    .dataframe tbody tr th {\n",
       "        vertical-align: top;\n",
       "    }\n",
       "\n",
       "    .dataframe thead th {\n",
       "        text-align: right;\n",
       "    }\n",
       "</style>\n",
       "<table border=\"1\" class=\"dataframe\">\n",
       "  <thead>\n",
       "    <tr style=\"text-align: right;\">\n",
       "      <th></th>\n",
       "      <th>Label</th>\n",
       "      <th>brand</th>\n",
       "      <th>name</th>\n",
       "      <th>price</th>\n",
       "      <th>rank</th>\n",
       "      <th>ingredients</th>\n",
       "      <th>Combination</th>\n",
       "      <th>Dry</th>\n",
       "      <th>Normal</th>\n",
       "      <th>Oily</th>\n",
       "      <th>Sensitive</th>\n",
       "    </tr>\n",
       "  </thead>\n",
       "  <tbody>\n",
       "    <tr>\n",
       "      <th>0</th>\n",
       "      <td>Moisturizer</td>\n",
       "      <td>LA MER</td>\n",
       "      <td>Crème de la Mer</td>\n",
       "      <td>175</td>\n",
       "      <td>4.1</td>\n",
       "      <td>Algae (Seaweed) Extract, Mineral Oil, Petrolat...</td>\n",
       "      <td>1</td>\n",
       "      <td>1</td>\n",
       "      <td>1</td>\n",
       "      <td>1</td>\n",
       "      <td>1</td>\n",
       "    </tr>\n",
       "    <tr>\n",
       "      <th>1</th>\n",
       "      <td>Moisturizer</td>\n",
       "      <td>SK-II</td>\n",
       "      <td>Facial Treatment Essence</td>\n",
       "      <td>179</td>\n",
       "      <td>4.1</td>\n",
       "      <td>Galactomyces Ferment Filtrate (Pitera), Butyle...</td>\n",
       "      <td>1</td>\n",
       "      <td>1</td>\n",
       "      <td>1</td>\n",
       "      <td>1</td>\n",
       "      <td>1</td>\n",
       "    </tr>\n",
       "    <tr>\n",
       "      <th>2</th>\n",
       "      <td>Moisturizer</td>\n",
       "      <td>DRUNK ELEPHANT</td>\n",
       "      <td>Protini™ Polypeptide Cream</td>\n",
       "      <td>68</td>\n",
       "      <td>4.4</td>\n",
       "      <td>Water, Dicaprylyl Carbonate, Glycerin, Ceteary...</td>\n",
       "      <td>1</td>\n",
       "      <td>1</td>\n",
       "      <td>1</td>\n",
       "      <td>1</td>\n",
       "      <td>0</td>\n",
       "    </tr>\n",
       "    <tr>\n",
       "      <th>3</th>\n",
       "      <td>Moisturizer</td>\n",
       "      <td>LA MER</td>\n",
       "      <td>The Moisturizing Soft Cream</td>\n",
       "      <td>175</td>\n",
       "      <td>3.8</td>\n",
       "      <td>Algae (Seaweed) Extract, Cyclopentasiloxane, P...</td>\n",
       "      <td>1</td>\n",
       "      <td>1</td>\n",
       "      <td>1</td>\n",
       "      <td>1</td>\n",
       "      <td>1</td>\n",
       "    </tr>\n",
       "    <tr>\n",
       "      <th>4</th>\n",
       "      <td>Moisturizer</td>\n",
       "      <td>IT COSMETICS</td>\n",
       "      <td>Your Skin But Better™ CC+™ Cream with SPF 50+</td>\n",
       "      <td>38</td>\n",
       "      <td>4.1</td>\n",
       "      <td>Water, Snail Secretion Filtrate, Phenyl Trimet...</td>\n",
       "      <td>1</td>\n",
       "      <td>1</td>\n",
       "      <td>1</td>\n",
       "      <td>1</td>\n",
       "      <td>1</td>\n",
       "    </tr>\n",
       "  </tbody>\n",
       "</table>\n",
       "</div>"
      ],
      "text/plain": [
       "         Label           brand                                           name  \\\n",
       "0  Moisturizer          LA MER                                Crème de la Mer   \n",
       "1  Moisturizer           SK-II                       Facial Treatment Essence   \n",
       "2  Moisturizer  DRUNK ELEPHANT                     Protini™ Polypeptide Cream   \n",
       "3  Moisturizer          LA MER                    The Moisturizing Soft Cream   \n",
       "4  Moisturizer    IT COSMETICS  Your Skin But Better™ CC+™ Cream with SPF 50+   \n",
       "\n",
       "   price  rank                                        ingredients  \\\n",
       "0    175   4.1  Algae (Seaweed) Extract, Mineral Oil, Petrolat...   \n",
       "1    179   4.1  Galactomyces Ferment Filtrate (Pitera), Butyle...   \n",
       "2     68   4.4  Water, Dicaprylyl Carbonate, Glycerin, Ceteary...   \n",
       "3    175   3.8  Algae (Seaweed) Extract, Cyclopentasiloxane, P...   \n",
       "4     38   4.1  Water, Snail Secretion Filtrate, Phenyl Trimet...   \n",
       "\n",
       "   Combination  Dry  Normal  Oily  Sensitive  \n",
       "0            1    1       1     1          1  \n",
       "1            1    1       1     1          1  \n",
       "2            1    1       1     1          0  \n",
       "3            1    1       1     1          1  \n",
       "4            1    1       1     1          1  "
      ]
     },
     "execution_count": 14,
     "metadata": {},
     "output_type": "execute_result"
    }
   ],
   "source": [
    "df_skincare.head()"
   ]
  },
  {
   "cell_type": "code",
   "execution_count": 15,
   "id": "e76074dc",
   "metadata": {},
   "outputs": [
    {
     "data": {
      "text/html": [
       "<div>\n",
       "<style scoped>\n",
       "    .dataframe tbody tr th:only-of-type {\n",
       "        vertical-align: middle;\n",
       "    }\n",
       "\n",
       "    .dataframe tbody tr th {\n",
       "        vertical-align: top;\n",
       "    }\n",
       "\n",
       "    .dataframe thead th {\n",
       "        text-align: right;\n",
       "    }\n",
       "</style>\n",
       "<table border=\"1\" class=\"dataframe\">\n",
       "  <thead>\n",
       "    <tr style=\"text-align: right;\">\n",
       "      <th></th>\n",
       "      <th>CAS</th>\n",
       "      <th>List Name</th>\n",
       "      <th>TSCA Chemical Name</th>\n",
       "      <th>List Call</th>\n",
       "      <th>Caveat - Chemical Use</th>\n",
       "      <th>Edit Description</th>\n",
       "      <th>Date of Edit</th>\n",
       "    </tr>\n",
       "  </thead>\n",
       "  <tbody>\n",
       "    <tr>\n",
       "      <th>752</th>\n",
       "      <td>68605-97-0</td>\n",
       "      <td>Fatty acids, tallow, hydrogenated, compds. wit...</td>\n",
       "      <td>Fatty acids, tallow, hydrogenated, compds. wit...</td>\n",
       "      <td>Green [Circle]</td>\n",
       "      <td>NaN</td>\n",
       "      <td>Chemical added to the list</td>\n",
       "      <td>2012-12-21</td>\n",
       "    </tr>\n",
       "    <tr>\n",
       "      <th>753</th>\n",
       "      <td>26590-05-6</td>\n",
       "      <td>2-Propen-1-aminium, N,N-dimethyl-N-2-propenyl-...</td>\n",
       "      <td>2-Propen-1-aminium, N,N-dimethyl-N-2-propen-1-...</td>\n",
       "      <td>NaN</td>\n",
       "      <td>NaN</td>\n",
       "      <td>Chemical removed from list</td>\n",
       "      <td>2012-12-21</td>\n",
       "    </tr>\n",
       "    <tr>\n",
       "      <th>754</th>\n",
       "      <td>68989-22-0</td>\n",
       "      <td>Zeolites, NaA</td>\n",
       "      <td>Zeolites, NaA</td>\n",
       "      <td>Green [Circle]</td>\n",
       "      <td>NaN</td>\n",
       "      <td>Chemical added to the list</td>\n",
       "      <td>2012-12-21</td>\n",
       "    </tr>\n",
       "    <tr>\n",
       "      <th>755</th>\n",
       "      <td>1318-02-1</td>\n",
       "      <td>Zeolites</td>\n",
       "      <td>Zeolites</td>\n",
       "      <td>Green [Circle]</td>\n",
       "      <td>NaN</td>\n",
       "      <td>Chemical added to the list</td>\n",
       "      <td>2012-12-21</td>\n",
       "    </tr>\n",
       "    <tr>\n",
       "      <th>756</th>\n",
       "      <td>27593-14-2</td>\n",
       "      <td>Octyldimethylbetaine</td>\n",
       "      <td>1-Octanaminium, N-(carboxymethyl)-N,N-dimethyl...</td>\n",
       "      <td>Green [Circle]</td>\n",
       "      <td>NaN</td>\n",
       "      <td>Chemical added to the list</td>\n",
       "      <td>2012-12-21</td>\n",
       "    </tr>\n",
       "  </tbody>\n",
       "</table>\n",
       "</div>"
      ],
      "text/plain": [
       "            CAS                                          List Name  \\\n",
       "752  68605-97-0  Fatty acids, tallow, hydrogenated, compds. wit...   \n",
       "753  26590-05-6  2-Propen-1-aminium, N,N-dimethyl-N-2-propenyl-...   \n",
       "754  68989-22-0                                      Zeolites, NaA   \n",
       "755   1318-02-1                                           Zeolites   \n",
       "756  27593-14-2                               Octyldimethylbetaine   \n",
       "\n",
       "                                    TSCA Chemical Name       List Call  \\\n",
       "752  Fatty acids, tallow, hydrogenated, compds. wit...  Green [Circle]   \n",
       "753  2-Propen-1-aminium, N,N-dimethyl-N-2-propen-1-...             NaN   \n",
       "754                                      Zeolites, NaA  Green [Circle]   \n",
       "755                                           Zeolites  Green [Circle]   \n",
       "756  1-Octanaminium, N-(carboxymethyl)-N,N-dimethyl...  Green [Circle]   \n",
       "\n",
       "    Caveat - Chemical Use            Edit Description Date of Edit  \n",
       "752                   NaN  Chemical added to the list   2012-12-21  \n",
       "753                   NaN  Chemical removed from list   2012-12-21  \n",
       "754                   NaN  Chemical added to the list   2012-12-21  \n",
       "755                   NaN  Chemical added to the list   2012-12-21  \n",
       "756                   NaN  Chemical added to the list   2012-12-21  "
      ]
     },
     "execution_count": 15,
     "metadata": {},
     "output_type": "execute_result"
    }
   ],
   "source": [
    "df_ingredients.tail()"
   ]
  },
  {
   "cell_type": "code",
   "execution_count": null,
   "id": "0eaa2045",
   "metadata": {},
   "outputs": [],
   "source": []
  }
 ],
 "metadata": {
  "kernelspec": {
   "display_name": "Python 3 (ipykernel)",
   "language": "python",
   "name": "python3"
  },
  "language_info": {
   "codemirror_mode": {
    "name": "ipython",
    "version": 3
   },
   "file_extension": ".py",
   "mimetype": "text/x-python",
   "name": "python",
   "nbconvert_exporter": "python",
   "pygments_lexer": "ipython3",
   "version": "3.11.5"
  }
 },
 "nbformat": 4,
 "nbformat_minor": 5
}
